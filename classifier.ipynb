{
 "cells": [
  {
   "cell_type": "markdown",
   "metadata": {},
   "source": [
    "## Importing Required Packages"
   ]
  },
  {
   "cell_type": "code",
   "execution_count": 1,
   "metadata": {},
   "outputs": [],
   "source": [
    "import os\n",
    "import numpy as np\n",
    "import cv2\n",
    "import matplotlib.pyplot as plt\n",
    "import pandas as pd\n",
    "from sklearn.model_selection import train_test_split\n",
    "from sklearn.svm import SVC\n",
    "from sklearn.metrics import accuracy_score\n"
   ]
  },
  {
   "cell_type": "markdown",
   "metadata": {},
   "source": [
    "## Setting up data extractor"
   ]
  },
  {
   "cell_type": "code",
   "execution_count": 2,
   "metadata": {},
   "outputs": [],
   "source": [
    "def get_files(path):\n",
    "    file_list = []\n",
    "    for path, directories, files in os.walk(path):\n",
    "        file_list = files\n",
    "        return file_list"
   ]
  },
  {
   "cell_type": "markdown",
   "metadata": {},
   "source": [
    "## Extracting COVID-19 data, normalizing & then adding to dataframe"
   ]
  },
  {
   "cell_type": "code",
   "execution_count": 3,
   "metadata": {},
   "outputs": [
    {
     "name": "stdout",
     "output_type": "stream",
     "text": [
      "349\n"
     ]
    }
   ],
   "source": [
    "c_path = \"./COVID19_Lung_CT/CT_COVID\"\n",
    "c_files = get_files(c_path)\n",
    "c_data = []\n",
    "\n",
    "for img in c_files:\n",
    "    img_raw = cv2.imread(f'{c_path}/{img}',0)\n",
    "    img_norm = cv2.resize(img_raw,(20,20))\n",
    "    img_flat = np.array(img_norm).flatten()\n",
    "    c_data.append([img_flat,1])\n",
    "\n",
    "print(len(c_data))"
   ]
  },
  {
   "cell_type": "code",
   "execution_count": 4,
   "metadata": {},
   "outputs": [
    {
     "data": {
      "text/html": [
       "<div>\n",
       "<style scoped>\n",
       "    .dataframe tbody tr th:only-of-type {\n",
       "        vertical-align: middle;\n",
       "    }\n",
       "\n",
       "    .dataframe tbody tr th {\n",
       "        vertical-align: top;\n",
       "    }\n",
       "\n",
       "    .dataframe thead th {\n",
       "        text-align: right;\n",
       "    }\n",
       "</style>\n",
       "<table border=\"1\" class=\"dataframe\">\n",
       "  <thead>\n",
       "    <tr style=\"text-align: right;\">\n",
       "      <th></th>\n",
       "      <th>img_data</th>\n",
       "      <th>label</th>\n",
       "    </tr>\n",
       "  </thead>\n",
       "  <tbody>\n",
       "    <tr>\n",
       "      <th>0</th>\n",
       "      <td>[255, 255, 255, 255, 255, 255, 255, 255, 255, ...</td>\n",
       "      <td>1</td>\n",
       "    </tr>\n",
       "    <tr>\n",
       "      <th>1</th>\n",
       "      <td>[7, 8, 9, 7, 8, 8, 8, 8, 9, 8, 9, 8, 7, 6, 8, ...</td>\n",
       "      <td>1</td>\n",
       "    </tr>\n",
       "    <tr>\n",
       "      <th>2</th>\n",
       "      <td>[251, 245, 74, 87, 86, 77, 76, 63, 82, 67, 120...</td>\n",
       "      <td>1</td>\n",
       "    </tr>\n",
       "    <tr>\n",
       "      <th>3</th>\n",
       "      <td>[24, 69, 63, 64, 67, 111, 101, 83, 95, 99, 101...</td>\n",
       "      <td>1</td>\n",
       "    </tr>\n",
       "    <tr>\n",
       "      <th>4</th>\n",
       "      <td>[0, 0, 0, 0, 62, 35, 189, 195, 186, 33, 130, 1...</td>\n",
       "      <td>1</td>\n",
       "    </tr>\n",
       "    <tr>\n",
       "      <th>...</th>\n",
       "      <td>...</td>\n",
       "      <td>...</td>\n",
       "    </tr>\n",
       "    <tr>\n",
       "      <th>344</th>\n",
       "      <td>[52, 51, 51, 53, 52, 61, 76, 104, 55, 66, 54, ...</td>\n",
       "      <td>1</td>\n",
       "    </tr>\n",
       "    <tr>\n",
       "      <th>345</th>\n",
       "      <td>[0, 45, 41, 46, 45, 41, 43, 46, 43, 45, 42, 44...</td>\n",
       "      <td>1</td>\n",
       "    </tr>\n",
       "    <tr>\n",
       "      <th>346</th>\n",
       "      <td>[77, 77, 80, 78, 74, 248, 225, 251, 254, 228, ...</td>\n",
       "      <td>1</td>\n",
       "    </tr>\n",
       "    <tr>\n",
       "      <th>347</th>\n",
       "      <td>[242, 255, 255, 242, 237, 253, 255, 255, 255, ...</td>\n",
       "      <td>1</td>\n",
       "    </tr>\n",
       "    <tr>\n",
       "      <th>348</th>\n",
       "      <td>[42, 236, 181, 207, 187, 44, 197, 215, 197, 20...</td>\n",
       "      <td>1</td>\n",
       "    </tr>\n",
       "  </tbody>\n",
       "</table>\n",
       "<p>349 rows × 2 columns</p>\n",
       "</div>"
      ],
      "text/plain": [
       "                                              img_data  label\n",
       "0    [255, 255, 255, 255, 255, 255, 255, 255, 255, ...      1\n",
       "1    [7, 8, 9, 7, 8, 8, 8, 8, 9, 8, 9, 8, 7, 6, 8, ...      1\n",
       "2    [251, 245, 74, 87, 86, 77, 76, 63, 82, 67, 120...      1\n",
       "3    [24, 69, 63, 64, 67, 111, 101, 83, 95, 99, 101...      1\n",
       "4    [0, 0, 0, 0, 62, 35, 189, 195, 186, 33, 130, 1...      1\n",
       "..                                                 ...    ...\n",
       "344  [52, 51, 51, 53, 52, 61, 76, 104, 55, 66, 54, ...      1\n",
       "345  [0, 45, 41, 46, 45, 41, 43, 46, 43, 45, 42, 44...      1\n",
       "346  [77, 77, 80, 78, 74, 248, 225, 251, 254, 228, ...      1\n",
       "347  [242, 255, 255, 242, 237, 253, 255, 255, 255, ...      1\n",
       "348  [42, 236, 181, 207, 187, 44, 197, 215, 197, 20...      1\n",
       "\n",
       "[349 rows x 2 columns]"
      ]
     },
     "execution_count": 4,
     "metadata": {},
     "output_type": "execute_result"
    }
   ],
   "source": [
    "#pd.set_option(\"max_rows\", None)\n",
    "df = pd.DataFrame(c_data, columns = ['img_data', 'label'])\n",
    "df"
   ]
  },
  {
   "cell_type": "code",
   "execution_count": null,
   "metadata": {},
   "outputs": [],
   "source": []
  },
  {
   "cell_type": "markdown",
   "metadata": {},
   "source": [
    "## Extracting Non COVID-19 data, normalizing & then adding to dataframe"
   ]
  },
  {
   "cell_type": "code",
   "execution_count": 5,
   "metadata": {},
   "outputs": [
    {
     "name": "stdout",
     "output_type": "stream",
     "text": [
      "397\n"
     ]
    }
   ],
   "source": [
    "nc_path = \"./COVID19_Lung_CT/CT_NonCOVID\"\n",
    "nc_files = get_files(nc_path)\n",
    "nc_data = []\n",
    "\n",
    "for img in nc_files:\n",
    "    img_raw = cv2.imread(f'{nc_path}/{img}',0)\n",
    "    img_norm = cv2.resize(img_raw,(20,20))\n",
    "    img_flat = np.array(img_norm).flatten()\n",
    "    nc_data.append([img_flat,0])\n",
    "    \n",
    "print(len(nc_data))"
   ]
  },
  {
   "cell_type": "code",
   "execution_count": 6,
   "metadata": {},
   "outputs": [
    {
     "data": {
      "text/html": [
       "<div>\n",
       "<style scoped>\n",
       "    .dataframe tbody tr th:only-of-type {\n",
       "        vertical-align: middle;\n",
       "    }\n",
       "\n",
       "    .dataframe tbody tr th {\n",
       "        vertical-align: top;\n",
       "    }\n",
       "\n",
       "    .dataframe thead th {\n",
       "        text-align: right;\n",
       "    }\n",
       "</style>\n",
       "<table border=\"1\" class=\"dataframe\">\n",
       "  <thead>\n",
       "    <tr style=\"text-align: right;\">\n",
       "      <th></th>\n",
       "      <th>img_data</th>\n",
       "      <th>label</th>\n",
       "    </tr>\n",
       "  </thead>\n",
       "  <tbody>\n",
       "    <tr>\n",
       "      <th>0</th>\n",
       "      <td>[70, 63, 67, 66, 195, 187, 190, 182, 182, 127,...</td>\n",
       "      <td>0</td>\n",
       "    </tr>\n",
       "    <tr>\n",
       "      <th>1</th>\n",
       "      <td>[0, 0, 60, 71, 61, 63, 83, 60, 85, 94, 76, 247...</td>\n",
       "      <td>0</td>\n",
       "    </tr>\n",
       "    <tr>\n",
       "      <th>2</th>\n",
       "      <td>[19, 19, 19, 19, 19, 19, 19, 20, 21, 18, 21, 1...</td>\n",
       "      <td>0</td>\n",
       "    </tr>\n",
       "    <tr>\n",
       "      <th>3</th>\n",
       "      <td>[1, 0, 0, 1, 220, 213, 215, 213, 215, 214, 207...</td>\n",
       "      <td>0</td>\n",
       "    </tr>\n",
       "    <tr>\n",
       "      <th>4</th>\n",
       "      <td>[0, 0, 45, 43, 45, 44, 47, 53, 45, 50, 51, 48,...</td>\n",
       "      <td>0</td>\n",
       "    </tr>\n",
       "    <tr>\n",
       "      <th>...</th>\n",
       "      <td>...</td>\n",
       "      <td>...</td>\n",
       "    </tr>\n",
       "    <tr>\n",
       "      <th>392</th>\n",
       "      <td>[1, 1, 15, 44, 44, 44, 43, 44, 44, 45, 44, 44,...</td>\n",
       "      <td>0</td>\n",
       "    </tr>\n",
       "    <tr>\n",
       "      <th>393</th>\n",
       "      <td>[89, 234, 225, 232, 247, 243, 236, 244, 249, 2...</td>\n",
       "      <td>0</td>\n",
       "    </tr>\n",
       "    <tr>\n",
       "      <th>394</th>\n",
       "      <td>[210, 241, 235, 215, 240, 224, 165, 247, 231, ...</td>\n",
       "      <td>0</td>\n",
       "    </tr>\n",
       "    <tr>\n",
       "      <th>395</th>\n",
       "      <td>[42, 42, 42, 42, 42, 42, 42, 43, 44, 68, 45, 5...</td>\n",
       "      <td>0</td>\n",
       "    </tr>\n",
       "    <tr>\n",
       "      <th>396</th>\n",
       "      <td>[27, 29, 27, 26, 24, 26, 21, 19, 23, 23, 25, 2...</td>\n",
       "      <td>0</td>\n",
       "    </tr>\n",
       "  </tbody>\n",
       "</table>\n",
       "<p>397 rows × 2 columns</p>\n",
       "</div>"
      ],
      "text/plain": [
       "                                              img_data  label\n",
       "0    [70, 63, 67, 66, 195, 187, 190, 182, 182, 127,...      0\n",
       "1    [0, 0, 60, 71, 61, 63, 83, 60, 85, 94, 76, 247...      0\n",
       "2    [19, 19, 19, 19, 19, 19, 19, 20, 21, 18, 21, 1...      0\n",
       "3    [1, 0, 0, 1, 220, 213, 215, 213, 215, 214, 207...      0\n",
       "4    [0, 0, 45, 43, 45, 44, 47, 53, 45, 50, 51, 48,...      0\n",
       "..                                                 ...    ...\n",
       "392  [1, 1, 15, 44, 44, 44, 43, 44, 44, 45, 44, 44,...      0\n",
       "393  [89, 234, 225, 232, 247, 243, 236, 244, 249, 2...      0\n",
       "394  [210, 241, 235, 215, 240, 224, 165, 247, 231, ...      0\n",
       "395  [42, 42, 42, 42, 42, 42, 42, 43, 44, 68, 45, 5...      0\n",
       "396  [27, 29, 27, 26, 24, 26, 21, 19, 23, 23, 25, 2...      0\n",
       "\n",
       "[397 rows x 2 columns]"
      ]
     },
     "execution_count": 6,
     "metadata": {},
     "output_type": "execute_result"
    }
   ],
   "source": [
    "df2 = pd.DataFrame(nc_data, columns = ['img_data', 'label'])\n",
    "df2"
   ]
  },
  {
   "cell_type": "code",
   "execution_count": 7,
   "metadata": {},
   "outputs": [
    {
     "data": {
      "text/html": [
       "<div>\n",
       "<style scoped>\n",
       "    .dataframe tbody tr th:only-of-type {\n",
       "        vertical-align: middle;\n",
       "    }\n",
       "\n",
       "    .dataframe tbody tr th {\n",
       "        vertical-align: top;\n",
       "    }\n",
       "\n",
       "    .dataframe thead th {\n",
       "        text-align: right;\n",
       "    }\n",
       "</style>\n",
       "<table border=\"1\" class=\"dataframe\">\n",
       "  <thead>\n",
       "    <tr style=\"text-align: right;\">\n",
       "      <th></th>\n",
       "      <th>img_data</th>\n",
       "      <th>label</th>\n",
       "    </tr>\n",
       "  </thead>\n",
       "  <tbody>\n",
       "    <tr>\n",
       "      <th>0</th>\n",
       "      <td>[255, 255, 255, 255, 255, 255, 255, 255, 255, ...</td>\n",
       "      <td>1</td>\n",
       "    </tr>\n",
       "    <tr>\n",
       "      <th>1</th>\n",
       "      <td>[7, 8, 9, 7, 8, 8, 8, 8, 9, 8, 9, 8, 7, 6, 8, ...</td>\n",
       "      <td>1</td>\n",
       "    </tr>\n",
       "    <tr>\n",
       "      <th>2</th>\n",
       "      <td>[251, 245, 74, 87, 86, 77, 76, 63, 82, 67, 120...</td>\n",
       "      <td>1</td>\n",
       "    </tr>\n",
       "    <tr>\n",
       "      <th>3</th>\n",
       "      <td>[24, 69, 63, 64, 67, 111, 101, 83, 95, 99, 101...</td>\n",
       "      <td>1</td>\n",
       "    </tr>\n",
       "    <tr>\n",
       "      <th>4</th>\n",
       "      <td>[0, 0, 0, 0, 62, 35, 189, 195, 186, 33, 130, 1...</td>\n",
       "      <td>1</td>\n",
       "    </tr>\n",
       "    <tr>\n",
       "      <th>...</th>\n",
       "      <td>...</td>\n",
       "      <td>...</td>\n",
       "    </tr>\n",
       "    <tr>\n",
       "      <th>741</th>\n",
       "      <td>[1, 1, 15, 44, 44, 44, 43, 44, 44, 45, 44, 44,...</td>\n",
       "      <td>0</td>\n",
       "    </tr>\n",
       "    <tr>\n",
       "      <th>742</th>\n",
       "      <td>[89, 234, 225, 232, 247, 243, 236, 244, 249, 2...</td>\n",
       "      <td>0</td>\n",
       "    </tr>\n",
       "    <tr>\n",
       "      <th>743</th>\n",
       "      <td>[210, 241, 235, 215, 240, 224, 165, 247, 231, ...</td>\n",
       "      <td>0</td>\n",
       "    </tr>\n",
       "    <tr>\n",
       "      <th>744</th>\n",
       "      <td>[42, 42, 42, 42, 42, 42, 42, 43, 44, 68, 45, 5...</td>\n",
       "      <td>0</td>\n",
       "    </tr>\n",
       "    <tr>\n",
       "      <th>745</th>\n",
       "      <td>[27, 29, 27, 26, 24, 26, 21, 19, 23, 23, 25, 2...</td>\n",
       "      <td>0</td>\n",
       "    </tr>\n",
       "  </tbody>\n",
       "</table>\n",
       "<p>746 rows × 2 columns</p>\n",
       "</div>"
      ],
      "text/plain": [
       "                                              img_data  label\n",
       "0    [255, 255, 255, 255, 255, 255, 255, 255, 255, ...      1\n",
       "1    [7, 8, 9, 7, 8, 8, 8, 8, 9, 8, 9, 8, 7, 6, 8, ...      1\n",
       "2    [251, 245, 74, 87, 86, 77, 76, 63, 82, 67, 120...      1\n",
       "3    [24, 69, 63, 64, 67, 111, 101, 83, 95, 99, 101...      1\n",
       "4    [0, 0, 0, 0, 62, 35, 189, 195, 186, 33, 130, 1...      1\n",
       "..                                                 ...    ...\n",
       "741  [1, 1, 15, 44, 44, 44, 43, 44, 44, 45, 44, 44,...      0\n",
       "742  [89, 234, 225, 232, 247, 243, 236, 244, 249, 2...      0\n",
       "743  [210, 241, 235, 215, 240, 224, 165, 247, 231, ...      0\n",
       "744  [42, 42, 42, 42, 42, 42, 42, 43, 44, 68, 45, 5...      0\n",
       "745  [27, 29, 27, 26, 24, 26, 21, 19, 23, 23, 25, 2...      0\n",
       "\n",
       "[746 rows x 2 columns]"
      ]
     },
     "execution_count": 7,
     "metadata": {},
     "output_type": "execute_result"
    }
   ],
   "source": [
    "img_master = df.append(df2, ignore_index=True)\n",
    "img_master"
   ]
  },
  {
   "cell_type": "code",
   "execution_count": 8,
   "metadata": {},
   "outputs": [
    {
     "data": {
      "text/html": [
       "<div>\n",
       "<style scoped>\n",
       "    .dataframe tbody tr th:only-of-type {\n",
       "        vertical-align: middle;\n",
       "    }\n",
       "\n",
       "    .dataframe tbody tr th {\n",
       "        vertical-align: top;\n",
       "    }\n",
       "\n",
       "    .dataframe thead th {\n",
       "        text-align: right;\n",
       "    }\n",
       "</style>\n",
       "<table border=\"1\" class=\"dataframe\">\n",
       "  <thead>\n",
       "    <tr style=\"text-align: right;\">\n",
       "      <th></th>\n",
       "      <th>img_data</th>\n",
       "      <th>label</th>\n",
       "    </tr>\n",
       "  </thead>\n",
       "  <tbody>\n",
       "    <tr>\n",
       "      <th>0</th>\n",
       "      <td>[28, 103, 58, 253, 255, 255, 255, 255, 255, 25...</td>\n",
       "      <td>1</td>\n",
       "    </tr>\n",
       "    <tr>\n",
       "      <th>1</th>\n",
       "      <td>[35, 37, 35, 35, 34, 35, 31, 35, 36, 33, 38, 3...</td>\n",
       "      <td>1</td>\n",
       "    </tr>\n",
       "    <tr>\n",
       "      <th>2</th>\n",
       "      <td>[1, 50, 39, 55, 195, 194, 193, 196, 192, 195, ...</td>\n",
       "      <td>0</td>\n",
       "    </tr>\n",
       "    <tr>\n",
       "      <th>3</th>\n",
       "      <td>[31, 28, 24, 28, 188, 179, 177, 180, 186, 179,...</td>\n",
       "      <td>0</td>\n",
       "    </tr>\n",
       "    <tr>\n",
       "      <th>4</th>\n",
       "      <td>[66, 67, 66, 68, 66, 67, 68, 79, 70, 70, 88, 6...</td>\n",
       "      <td>0</td>\n",
       "    </tr>\n",
       "    <tr>\n",
       "      <th>...</th>\n",
       "      <td>...</td>\n",
       "      <td>...</td>\n",
       "    </tr>\n",
       "    <tr>\n",
       "      <th>741</th>\n",
       "      <td>[1, 1, 56, 62, 56, 62, 194, 57, 92, 67, 62, 66...</td>\n",
       "      <td>0</td>\n",
       "    </tr>\n",
       "    <tr>\n",
       "      <th>742</th>\n",
       "      <td>[42, 53, 204, 193, 176, 63, 44, 44, 44, 45, 46...</td>\n",
       "      <td>0</td>\n",
       "    </tr>\n",
       "    <tr>\n",
       "      <th>743</th>\n",
       "      <td>[60, 59, 60, 58, 74, 223, 207, 214, 217, 164, ...</td>\n",
       "      <td>1</td>\n",
       "    </tr>\n",
       "    <tr>\n",
       "      <th>744</th>\n",
       "      <td>[1, 1, 1, 99, 95, 81, 80, 79, 85, 83, 81, 81, ...</td>\n",
       "      <td>0</td>\n",
       "    </tr>\n",
       "    <tr>\n",
       "      <th>745</th>\n",
       "      <td>[28, 27, 29, 28, 197, 189, 191, 189, 57, 109, ...</td>\n",
       "      <td>1</td>\n",
       "    </tr>\n",
       "  </tbody>\n",
       "</table>\n",
       "<p>746 rows × 2 columns</p>\n",
       "</div>"
      ],
      "text/plain": [
       "                                              img_data  label\n",
       "0    [28, 103, 58, 253, 255, 255, 255, 255, 255, 25...      1\n",
       "1    [35, 37, 35, 35, 34, 35, 31, 35, 36, 33, 38, 3...      1\n",
       "2    [1, 50, 39, 55, 195, 194, 193, 196, 192, 195, ...      0\n",
       "3    [31, 28, 24, 28, 188, 179, 177, 180, 186, 179,...      0\n",
       "4    [66, 67, 66, 68, 66, 67, 68, 79, 70, 70, 88, 6...      0\n",
       "..                                                 ...    ...\n",
       "741  [1, 1, 56, 62, 56, 62, 194, 57, 92, 67, 62, 66...      0\n",
       "742  [42, 53, 204, 193, 176, 63, 44, 44, 44, 45, 46...      0\n",
       "743  [60, 59, 60, 58, 74, 223, 207, 214, 217, 164, ...      1\n",
       "744  [1, 1, 1, 99, 95, 81, 80, 79, 85, 83, 81, 81, ...      0\n",
       "745  [28, 27, 29, 28, 197, 189, 191, 189, 57, 109, ...      1\n",
       "\n",
       "[746 rows x 2 columns]"
      ]
     },
     "execution_count": 8,
     "metadata": {},
     "output_type": "execute_result"
    }
   ],
   "source": [
    "img_final = img_master.sample(frac=1).reset_index(drop=True)\n",
    "img_final"
   ]
  },
  {
   "cell_type": "code",
   "execution_count": 9,
   "metadata": {},
   "outputs": [
    {
     "data": {
      "text/plain": [
       "Index(['img_data', 'label'], dtype='object')"
      ]
     },
     "execution_count": 9,
     "metadata": {},
     "output_type": "execute_result"
    }
   ],
   "source": [
    "img_final.columns\n"
   ]
  },
  {
   "cell_type": "markdown",
   "metadata": {},
   "source": [
    "### Training & Testing Split"
   ]
  },
  {
   "cell_type": "code",
   "execution_count": 10,
   "metadata": {},
   "outputs": [],
   "source": [
    "y_df = img_final[['label']]\n",
    "X_df = img_final[['img_data']]\n"
   ]
  },
  {
   "cell_type": "code",
   "execution_count": 11,
   "metadata": {},
   "outputs": [],
   "source": [
    "X = np.asarray(X_df)\n",
    "y = np.asarray(y_df)\n",
    "y = y.flatten()"
   ]
  },
  {
   "cell_type": "code",
   "execution_count": 12,
   "metadata": {},
   "outputs": [],
   "source": [
    "X_final = []\n",
    "for i in X:\n",
    "    for g in i:\n",
    "        X_final.append(g)"
   ]
  },
  {
   "cell_type": "code",
   "execution_count": 13,
   "metadata": {},
   "outputs": [],
   "source": [
    "X_f = np.array(X_final)"
   ]
  },
  {
   "cell_type": "code",
   "execution_count": 14,
   "metadata": {},
   "outputs": [
    {
     "name": "stdout",
     "output_type": "stream",
     "text": [
      "X_train.shape = (559, 400)\n",
      "X_test.shape  = (187, 400)\n",
      "y_train.shape = (559,)\n",
      "y_test.shape  = (187,)\n"
     ]
    }
   ],
   "source": [
    "X_train, X_test, y_train, y_test = train_test_split(\n",
    "     X_f, y, random_state=600)\n",
    "\n",
    "print(f'X_train.shape = {X_train.shape}')\n",
    "print(f'X_test.shape  = {X_test.shape}')\n",
    "print(f'y_train.shape = {y_train.shape}')\n",
    "print(f'y_test.shape  = {y_test.shape}')"
   ]
  },
  {
   "cell_type": "markdown",
   "metadata": {},
   "source": [
    "### Implementing SVM Model"
   ]
  },
  {
   "cell_type": "code",
   "execution_count": 15,
   "metadata": {},
   "outputs": [],
   "source": [
    "sv = SVC(C=1,gamma = 'auto')"
   ]
  },
  {
   "cell_type": "code",
   "execution_count": 16,
   "metadata": {},
   "outputs": [
    {
     "data": {
      "text/plain": [
       "SVC(C=1, gamma='auto')"
      ]
     },
     "execution_count": 16,
     "metadata": {},
     "output_type": "execute_result"
    }
   ],
   "source": [
    "sv.fit(X_train, y_train)"
   ]
  },
  {
   "cell_type": "code",
   "execution_count": 17,
   "metadata": {},
   "outputs": [],
   "source": [
    "predict = sv.predict(X_test)"
   ]
  },
  {
   "cell_type": "code",
   "execution_count": 20,
   "metadata": {},
   "outputs": [
    {
     "name": "stdout",
     "output_type": "stream",
     "text": [
      "Model accuracy is 55.080%\n"
     ]
    }
   ],
   "source": [
    "print(f'Model accuracy is {accuracy_score(y_test, predict)*100:.3f}%')"
   ]
  },
  {
   "cell_type": "code",
   "execution_count": null,
   "metadata": {},
   "outputs": [],
   "source": []
  },
  {
   "cell_type": "code",
   "execution_count": null,
   "metadata": {},
   "outputs": [],
   "source": []
  }
 ],
 "metadata": {
  "kernelspec": {
   "display_name": "Python 3",
   "language": "python",
   "name": "python3"
  },
  "language_info": {
   "codemirror_mode": {
    "name": "ipython",
    "version": 3
   },
   "file_extension": ".py",
   "mimetype": "text/x-python",
   "name": "python",
   "nbconvert_exporter": "python",
   "pygments_lexer": "ipython3",
   "version": "3.8.5"
  }
 },
 "nbformat": 4,
 "nbformat_minor": 4
}
