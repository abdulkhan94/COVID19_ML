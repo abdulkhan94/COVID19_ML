{
 "cells": [
  {
   "cell_type": "markdown",
   "metadata": {},
   "source": [
    "## Importing Required Packages"
   ]
  },
  {
   "cell_type": "code",
   "execution_count": 30,
   "metadata": {},
   "outputs": [],
   "source": [
    "import os\n",
    "import numpy as np\n",
    "import cv2\n",
    "import matplotlib.pyplot as plt\n",
    "import pandas as pd\n",
    "from sklearn.model_selection import train_test_split\n",
    "from sklearn.svm import SVC\n",
    "from sklearn.metrics import accuracy_score"
   ]
  },
  {
   "cell_type": "markdown",
   "metadata": {},
   "source": [
    "## Setting up data extractor"
   ]
  },
  {
   "cell_type": "code",
   "execution_count": 31,
   "metadata": {},
   "outputs": [],
   "source": [
    "def get_files(path):\n",
    "    file_list = []\n",
    "    for path, directories, files in os.walk(path):\n",
    "        file_list = files\n",
    "        return file_list"
   ]
  },
  {
   "cell_type": "code",
   "execution_count": 32,
   "metadata": {},
   "outputs": [
    {
     "name": "stdout",
     "output_type": "stream",
     "text": [
      "(335, 580)\n",
      "(194300,)\n"
     ]
    }
   ],
   "source": [
    "img_raw = cv2.imread(f'COVID19_Lung_CT/CT_COVID/2019-novel-Coronavirus-severe-adult-respiratory-dist_2020_International-Jour-p3-89%0.png',0)\n",
    "print(img_raw.shape)\n",
    "a = np.array(img_raw).flatten()\n",
    "print(a.shape)\n"
   ]
  },
  {
   "cell_type": "markdown",
   "metadata": {},
   "source": [
    "## Extracting COVID-19 data, normalizing & then adding to dataframe"
   ]
  },
  {
   "cell_type": "code",
   "execution_count": 33,
   "metadata": {},
   "outputs": [
    {
     "name": "stdout",
     "output_type": "stream",
     "text": [
      "349\n"
     ]
    }
   ],
   "source": [
    "c_path = \"./COVID19_Lung_CT/CT_COVID\"\n",
    "c_files = get_files(c_path)\n",
    "c_data = []\n",
    "\n",
    "\n",
    "for img in c_files:\n",
    "    img_raw = cv2.imread(f'{c_path}/{img}',0)\n",
    "    try:\n",
    "        img_norm = cv2.resize(img_raw,(20,20)) # This needs to be improved with effective feature extraction\n",
    "        img_flat = np.array(img_norm).flatten()\n",
    "        c_data.append([img_flat,1]) # Assigning label 1 for COVID data\n",
    "    except AssertionError: # Using try except clause makes sure we don't have any images which would not resize properly\n",
    "        pass\n",
    "        \n",
    "print(len(c_data))"
   ]
  },
  {
   "cell_type": "code",
   "execution_count": 5,
   "metadata": {},
   "outputs": [
    {
     "data": {
      "text/html": [
       "<div>\n",
       "<style scoped>\n",
       "    .dataframe tbody tr th:only-of-type {\n",
       "        vertical-align: middle;\n",
       "    }\n",
       "\n",
       "    .dataframe tbody tr th {\n",
       "        vertical-align: top;\n",
       "    }\n",
       "\n",
       "    .dataframe thead th {\n",
       "        text-align: right;\n",
       "    }\n",
       "</style>\n",
       "<table border=\"1\" class=\"dataframe\">\n",
       "  <thead>\n",
       "    <tr style=\"text-align: right;\">\n",
       "      <th></th>\n",
       "      <th>img_data</th>\n",
       "      <th>label</th>\n",
       "    </tr>\n",
       "  </thead>\n",
       "  <tbody>\n",
       "    <tr>\n",
       "      <th>0</th>\n",
       "      <td>[255, 255, 255, 255, 255, 255, 255, 255, 255, ...</td>\n",
       "      <td>1</td>\n",
       "    </tr>\n",
       "    <tr>\n",
       "      <th>1</th>\n",
       "      <td>[7, 8, 9, 7, 8, 8, 8, 8, 9, 8, 9, 8, 7, 6, 8, ...</td>\n",
       "      <td>1</td>\n",
       "    </tr>\n",
       "    <tr>\n",
       "      <th>2</th>\n",
       "      <td>[251, 245, 74, 87, 86, 77, 76, 63, 82, 67, 120...</td>\n",
       "      <td>1</td>\n",
       "    </tr>\n",
       "    <tr>\n",
       "      <th>3</th>\n",
       "      <td>[24, 69, 63, 64, 67, 111, 101, 83, 95, 99, 101...</td>\n",
       "      <td>1</td>\n",
       "    </tr>\n",
       "    <tr>\n",
       "      <th>4</th>\n",
       "      <td>[0, 0, 0, 0, 62, 35, 189, 195, 186, 33, 130, 1...</td>\n",
       "      <td>1</td>\n",
       "    </tr>\n",
       "    <tr>\n",
       "      <th>...</th>\n",
       "      <td>...</td>\n",
       "      <td>...</td>\n",
       "    </tr>\n",
       "    <tr>\n",
       "      <th>344</th>\n",
       "      <td>[52, 51, 51, 53, 52, 61, 76, 104, 55, 66, 54, ...</td>\n",
       "      <td>1</td>\n",
       "    </tr>\n",
       "    <tr>\n",
       "      <th>345</th>\n",
       "      <td>[0, 45, 41, 46, 45, 41, 43, 46, 43, 45, 42, 44...</td>\n",
       "      <td>1</td>\n",
       "    </tr>\n",
       "    <tr>\n",
       "      <th>346</th>\n",
       "      <td>[77, 77, 80, 78, 74, 248, 225, 251, 254, 228, ...</td>\n",
       "      <td>1</td>\n",
       "    </tr>\n",
       "    <tr>\n",
       "      <th>347</th>\n",
       "      <td>[242, 255, 255, 242, 237, 253, 255, 255, 255, ...</td>\n",
       "      <td>1</td>\n",
       "    </tr>\n",
       "    <tr>\n",
       "      <th>348</th>\n",
       "      <td>[42, 236, 181, 207, 187, 44, 197, 215, 197, 20...</td>\n",
       "      <td>1</td>\n",
       "    </tr>\n",
       "  </tbody>\n",
       "</table>\n",
       "<p>349 rows × 2 columns</p>\n",
       "</div>"
      ],
      "text/plain": [
       "                                              img_data  label\n",
       "0    [255, 255, 255, 255, 255, 255, 255, 255, 255, ...      1\n",
       "1    [7, 8, 9, 7, 8, 8, 8, 8, 9, 8, 9, 8, 7, 6, 8, ...      1\n",
       "2    [251, 245, 74, 87, 86, 77, 76, 63, 82, 67, 120...      1\n",
       "3    [24, 69, 63, 64, 67, 111, 101, 83, 95, 99, 101...      1\n",
       "4    [0, 0, 0, 0, 62, 35, 189, 195, 186, 33, 130, 1...      1\n",
       "..                                                 ...    ...\n",
       "344  [52, 51, 51, 53, 52, 61, 76, 104, 55, 66, 54, ...      1\n",
       "345  [0, 45, 41, 46, 45, 41, 43, 46, 43, 45, 42, 44...      1\n",
       "346  [77, 77, 80, 78, 74, 248, 225, 251, 254, 228, ...      1\n",
       "347  [242, 255, 255, 242, 237, 253, 255, 255, 255, ...      1\n",
       "348  [42, 236, 181, 207, 187, 44, 197, 215, 197, 20...      1\n",
       "\n",
       "[349 rows x 2 columns]"
      ]
     },
     "execution_count": 5,
     "metadata": {},
     "output_type": "execute_result"
    }
   ],
   "source": [
    "#pd.set_option(\"max_rows\", None)\n",
    "df = pd.DataFrame(c_data, columns = ['img_data', 'label'])\n",
    "df"
   ]
  },
  {
   "cell_type": "code",
   "execution_count": null,
   "metadata": {},
   "outputs": [],
   "source": []
  },
  {
   "cell_type": "markdown",
   "metadata": {},
   "source": [
    "## Extracting Non COVID-19 data, normalizing & then adding to dataframe"
   ]
  },
  {
   "cell_type": "code",
   "execution_count": 6,
   "metadata": {},
   "outputs": [
    {
     "name": "stdout",
     "output_type": "stream",
     "text": [
      "397\n"
     ]
    }
   ],
   "source": [
    "nc_path = \"./COVID19_Lung_CT/CT_NonCOVID\"\n",
    "nc_files = get_files(nc_path)\n",
    "nc_data = []\n",
    "\n",
    "for img in nc_files:\n",
    "    img_raw = cv2.imread(f'{nc_path}/{img}',0)\n",
    "    try:\n",
    "        img_norm = cv2.resize(img_raw,(20,20))\n",
    "        img_flat = np.array(img_norm).flatten()\n",
    "        nc_data.append([img_flat,0])\n",
    "    except AssertionError:\n",
    "        pass\n",
    "    \n",
    "print(len(nc_data))"
   ]
  },
  {
   "cell_type": "code",
   "execution_count": 7,
   "metadata": {},
   "outputs": [
    {
     "data": {
      "text/html": [
       "<div>\n",
       "<style scoped>\n",
       "    .dataframe tbody tr th:only-of-type {\n",
       "        vertical-align: middle;\n",
       "    }\n",
       "\n",
       "    .dataframe tbody tr th {\n",
       "        vertical-align: top;\n",
       "    }\n",
       "\n",
       "    .dataframe thead th {\n",
       "        text-align: right;\n",
       "    }\n",
       "</style>\n",
       "<table border=\"1\" class=\"dataframe\">\n",
       "  <thead>\n",
       "    <tr style=\"text-align: right;\">\n",
       "      <th></th>\n",
       "      <th>img_data</th>\n",
       "      <th>label</th>\n",
       "    </tr>\n",
       "  </thead>\n",
       "  <tbody>\n",
       "    <tr>\n",
       "      <th>0</th>\n",
       "      <td>[70, 63, 67, 66, 195, 187, 190, 182, 182, 127,...</td>\n",
       "      <td>0</td>\n",
       "    </tr>\n",
       "    <tr>\n",
       "      <th>1</th>\n",
       "      <td>[0, 0, 60, 71, 61, 63, 83, 60, 85, 94, 76, 247...</td>\n",
       "      <td>0</td>\n",
       "    </tr>\n",
       "    <tr>\n",
       "      <th>2</th>\n",
       "      <td>[19, 19, 19, 19, 19, 19, 19, 20, 21, 18, 21, 1...</td>\n",
       "      <td>0</td>\n",
       "    </tr>\n",
       "    <tr>\n",
       "      <th>3</th>\n",
       "      <td>[1, 0, 0, 1, 220, 213, 215, 213, 215, 214, 207...</td>\n",
       "      <td>0</td>\n",
       "    </tr>\n",
       "    <tr>\n",
       "      <th>4</th>\n",
       "      <td>[0, 0, 45, 43, 45, 44, 47, 53, 45, 50, 51, 48,...</td>\n",
       "      <td>0</td>\n",
       "    </tr>\n",
       "    <tr>\n",
       "      <th>...</th>\n",
       "      <td>...</td>\n",
       "      <td>...</td>\n",
       "    </tr>\n",
       "    <tr>\n",
       "      <th>392</th>\n",
       "      <td>[1, 1, 15, 44, 44, 44, 43, 44, 44, 45, 44, 44,...</td>\n",
       "      <td>0</td>\n",
       "    </tr>\n",
       "    <tr>\n",
       "      <th>393</th>\n",
       "      <td>[89, 234, 225, 232, 247, 243, 236, 244, 249, 2...</td>\n",
       "      <td>0</td>\n",
       "    </tr>\n",
       "    <tr>\n",
       "      <th>394</th>\n",
       "      <td>[210, 241, 235, 215, 240, 224, 165, 247, 231, ...</td>\n",
       "      <td>0</td>\n",
       "    </tr>\n",
       "    <tr>\n",
       "      <th>395</th>\n",
       "      <td>[42, 42, 42, 42, 42, 42, 42, 43, 44, 68, 45, 5...</td>\n",
       "      <td>0</td>\n",
       "    </tr>\n",
       "    <tr>\n",
       "      <th>396</th>\n",
       "      <td>[27, 29, 27, 26, 24, 26, 21, 19, 23, 23, 25, 2...</td>\n",
       "      <td>0</td>\n",
       "    </tr>\n",
       "  </tbody>\n",
       "</table>\n",
       "<p>397 rows × 2 columns</p>\n",
       "</div>"
      ],
      "text/plain": [
       "                                              img_data  label\n",
       "0    [70, 63, 67, 66, 195, 187, 190, 182, 182, 127,...      0\n",
       "1    [0, 0, 60, 71, 61, 63, 83, 60, 85, 94, 76, 247...      0\n",
       "2    [19, 19, 19, 19, 19, 19, 19, 20, 21, 18, 21, 1...      0\n",
       "3    [1, 0, 0, 1, 220, 213, 215, 213, 215, 214, 207...      0\n",
       "4    [0, 0, 45, 43, 45, 44, 47, 53, 45, 50, 51, 48,...      0\n",
       "..                                                 ...    ...\n",
       "392  [1, 1, 15, 44, 44, 44, 43, 44, 44, 45, 44, 44,...      0\n",
       "393  [89, 234, 225, 232, 247, 243, 236, 244, 249, 2...      0\n",
       "394  [210, 241, 235, 215, 240, 224, 165, 247, 231, ...      0\n",
       "395  [42, 42, 42, 42, 42, 42, 42, 43, 44, 68, 45, 5...      0\n",
       "396  [27, 29, 27, 26, 24, 26, 21, 19, 23, 23, 25, 2...      0\n",
       "\n",
       "[397 rows x 2 columns]"
      ]
     },
     "execution_count": 7,
     "metadata": {},
     "output_type": "execute_result"
    }
   ],
   "source": [
    "df2 = pd.DataFrame(nc_data, columns = ['img_data', 'label'])\n",
    "df2"
   ]
  },
  {
   "cell_type": "markdown",
   "metadata": {},
   "source": [
    "### Merging data frames"
   ]
  },
  {
   "cell_type": "code",
   "execution_count": 8,
   "metadata": {},
   "outputs": [
    {
     "data": {
      "text/html": [
       "<div>\n",
       "<style scoped>\n",
       "    .dataframe tbody tr th:only-of-type {\n",
       "        vertical-align: middle;\n",
       "    }\n",
       "\n",
       "    .dataframe tbody tr th {\n",
       "        vertical-align: top;\n",
       "    }\n",
       "\n",
       "    .dataframe thead th {\n",
       "        text-align: right;\n",
       "    }\n",
       "</style>\n",
       "<table border=\"1\" class=\"dataframe\">\n",
       "  <thead>\n",
       "    <tr style=\"text-align: right;\">\n",
       "      <th></th>\n",
       "      <th>img_data</th>\n",
       "      <th>label</th>\n",
       "    </tr>\n",
       "  </thead>\n",
       "  <tbody>\n",
       "    <tr>\n",
       "      <th>0</th>\n",
       "      <td>[255, 255, 255, 255, 255, 255, 255, 255, 255, ...</td>\n",
       "      <td>1</td>\n",
       "    </tr>\n",
       "    <tr>\n",
       "      <th>1</th>\n",
       "      <td>[7, 8, 9, 7, 8, 8, 8, 8, 9, 8, 9, 8, 7, 6, 8, ...</td>\n",
       "      <td>1</td>\n",
       "    </tr>\n",
       "    <tr>\n",
       "      <th>2</th>\n",
       "      <td>[251, 245, 74, 87, 86, 77, 76, 63, 82, 67, 120...</td>\n",
       "      <td>1</td>\n",
       "    </tr>\n",
       "    <tr>\n",
       "      <th>3</th>\n",
       "      <td>[24, 69, 63, 64, 67, 111, 101, 83, 95, 99, 101...</td>\n",
       "      <td>1</td>\n",
       "    </tr>\n",
       "    <tr>\n",
       "      <th>4</th>\n",
       "      <td>[0, 0, 0, 0, 62, 35, 189, 195, 186, 33, 130, 1...</td>\n",
       "      <td>1</td>\n",
       "    </tr>\n",
       "    <tr>\n",
       "      <th>...</th>\n",
       "      <td>...</td>\n",
       "      <td>...</td>\n",
       "    </tr>\n",
       "    <tr>\n",
       "      <th>741</th>\n",
       "      <td>[1, 1, 15, 44, 44, 44, 43, 44, 44, 45, 44, 44,...</td>\n",
       "      <td>0</td>\n",
       "    </tr>\n",
       "    <tr>\n",
       "      <th>742</th>\n",
       "      <td>[89, 234, 225, 232, 247, 243, 236, 244, 249, 2...</td>\n",
       "      <td>0</td>\n",
       "    </tr>\n",
       "    <tr>\n",
       "      <th>743</th>\n",
       "      <td>[210, 241, 235, 215, 240, 224, 165, 247, 231, ...</td>\n",
       "      <td>0</td>\n",
       "    </tr>\n",
       "    <tr>\n",
       "      <th>744</th>\n",
       "      <td>[42, 42, 42, 42, 42, 42, 42, 43, 44, 68, 45, 5...</td>\n",
       "      <td>0</td>\n",
       "    </tr>\n",
       "    <tr>\n",
       "      <th>745</th>\n",
       "      <td>[27, 29, 27, 26, 24, 26, 21, 19, 23, 23, 25, 2...</td>\n",
       "      <td>0</td>\n",
       "    </tr>\n",
       "  </tbody>\n",
       "</table>\n",
       "<p>746 rows × 2 columns</p>\n",
       "</div>"
      ],
      "text/plain": [
       "                                              img_data  label\n",
       "0    [255, 255, 255, 255, 255, 255, 255, 255, 255, ...      1\n",
       "1    [7, 8, 9, 7, 8, 8, 8, 8, 9, 8, 9, 8, 7, 6, 8, ...      1\n",
       "2    [251, 245, 74, 87, 86, 77, 76, 63, 82, 67, 120...      1\n",
       "3    [24, 69, 63, 64, 67, 111, 101, 83, 95, 99, 101...      1\n",
       "4    [0, 0, 0, 0, 62, 35, 189, 195, 186, 33, 130, 1...      1\n",
       "..                                                 ...    ...\n",
       "741  [1, 1, 15, 44, 44, 44, 43, 44, 44, 45, 44, 44,...      0\n",
       "742  [89, 234, 225, 232, 247, 243, 236, 244, 249, 2...      0\n",
       "743  [210, 241, 235, 215, 240, 224, 165, 247, 231, ...      0\n",
       "744  [42, 42, 42, 42, 42, 42, 42, 43, 44, 68, 45, 5...      0\n",
       "745  [27, 29, 27, 26, 24, 26, 21, 19, 23, 23, 25, 2...      0\n",
       "\n",
       "[746 rows x 2 columns]"
      ]
     },
     "execution_count": 8,
     "metadata": {},
     "output_type": "execute_result"
    }
   ],
   "source": [
    "img_master = df.append(df2, ignore_index=True)\n",
    "img_master"
   ]
  },
  {
   "cell_type": "code",
   "execution_count": 9,
   "metadata": {},
   "outputs": [
    {
     "data": {
      "text/html": [
       "<div>\n",
       "<style scoped>\n",
       "    .dataframe tbody tr th:only-of-type {\n",
       "        vertical-align: middle;\n",
       "    }\n",
       "\n",
       "    .dataframe tbody tr th {\n",
       "        vertical-align: top;\n",
       "    }\n",
       "\n",
       "    .dataframe thead th {\n",
       "        text-align: right;\n",
       "    }\n",
       "</style>\n",
       "<table border=\"1\" class=\"dataframe\">\n",
       "  <thead>\n",
       "    <tr style=\"text-align: right;\">\n",
       "      <th></th>\n",
       "      <th>img_data</th>\n",
       "      <th>label</th>\n",
       "    </tr>\n",
       "  </thead>\n",
       "  <tbody>\n",
       "    <tr>\n",
       "      <th>0</th>\n",
       "      <td>[84, 247, 233, 245, 255, 255, 248, 225, 231, 2...</td>\n",
       "      <td>1</td>\n",
       "    </tr>\n",
       "    <tr>\n",
       "      <th>1</th>\n",
       "      <td>[232, 233, 212, 230, 231, 227, 207, 219, 209, ...</td>\n",
       "      <td>0</td>\n",
       "    </tr>\n",
       "    <tr>\n",
       "      <th>2</th>\n",
       "      <td>[1, 1, 56, 54, 52, 50, 65, 57, 57, 54, 55, 51,...</td>\n",
       "      <td>0</td>\n",
       "    </tr>\n",
       "    <tr>\n",
       "      <th>3</th>\n",
       "      <td>[1, 1, 60, 65, 58, 61, 61, 68, 72, 58, 82, 75,...</td>\n",
       "      <td>0</td>\n",
       "    </tr>\n",
       "    <tr>\n",
       "      <th>4</th>\n",
       "      <td>[59, 51, 58, 232, 218, 255, 252, 244, 217, 225...</td>\n",
       "      <td>0</td>\n",
       "    </tr>\n",
       "    <tr>\n",
       "      <th>...</th>\n",
       "      <td>...</td>\n",
       "      <td>...</td>\n",
       "    </tr>\n",
       "    <tr>\n",
       "      <th>741</th>\n",
       "      <td>[215, 55, 55, 52, 59, 54, 173, 169, 59, 57, 55...</td>\n",
       "      <td>1</td>\n",
       "    </tr>\n",
       "    <tr>\n",
       "      <th>742</th>\n",
       "      <td>[6, 5, 5, 4, 4, 4, 3, 3, 4, 4, 3, 3, 3, 3, 3, ...</td>\n",
       "      <td>1</td>\n",
       "    </tr>\n",
       "    <tr>\n",
       "      <th>743</th>\n",
       "      <td>[77, 77, 78, 173, 227, 232, 234, 232, 214, 172...</td>\n",
       "      <td>0</td>\n",
       "    </tr>\n",
       "    <tr>\n",
       "      <th>744</th>\n",
       "      <td>[1, 1, 45, 44, 45, 44, 44, 42, 45, 43, 41, 44,...</td>\n",
       "      <td>0</td>\n",
       "    </tr>\n",
       "    <tr>\n",
       "      <th>745</th>\n",
       "      <td>[47, 44, 38, 54, 40, 58, 45, 61, 49, 51, 48, 5...</td>\n",
       "      <td>1</td>\n",
       "    </tr>\n",
       "  </tbody>\n",
       "</table>\n",
       "<p>746 rows × 2 columns</p>\n",
       "</div>"
      ],
      "text/plain": [
       "                                              img_data  label\n",
       "0    [84, 247, 233, 245, 255, 255, 248, 225, 231, 2...      1\n",
       "1    [232, 233, 212, 230, 231, 227, 207, 219, 209, ...      0\n",
       "2    [1, 1, 56, 54, 52, 50, 65, 57, 57, 54, 55, 51,...      0\n",
       "3    [1, 1, 60, 65, 58, 61, 61, 68, 72, 58, 82, 75,...      0\n",
       "4    [59, 51, 58, 232, 218, 255, 252, 244, 217, 225...      0\n",
       "..                                                 ...    ...\n",
       "741  [215, 55, 55, 52, 59, 54, 173, 169, 59, 57, 55...      1\n",
       "742  [6, 5, 5, 4, 4, 4, 3, 3, 4, 4, 3, 3, 3, 3, 3, ...      1\n",
       "743  [77, 77, 78, 173, 227, 232, 234, 232, 214, 172...      0\n",
       "744  [1, 1, 45, 44, 45, 44, 44, 42, 45, 43, 41, 44,...      0\n",
       "745  [47, 44, 38, 54, 40, 58, 45, 61, 49, 51, 48, 5...      1\n",
       "\n",
       "[746 rows x 2 columns]"
      ]
     },
     "execution_count": 9,
     "metadata": {},
     "output_type": "execute_result"
    }
   ],
   "source": [
    "img_final = img_master.sample(frac=1).reset_index(drop=True) #Shuffling dataframe and resetting index values\n",
    "img_final"
   ]
  },
  {
   "cell_type": "code",
   "execution_count": 10,
   "metadata": {},
   "outputs": [
    {
     "ename": "SyntaxError",
     "evalue": "invalid syntax (<ipython-input-10-a2fbe2f7715a>, line 3)",
     "output_type": "error",
     "traceback": [
      "\u001b[0;36m  File \u001b[0;32m\"<ipython-input-10-a2fbe2f7715a>\"\u001b[0;36m, line \u001b[0;32m3\u001b[0m\n\u001b[0;31m    .to_excel(writer)\u001b[0m\n\u001b[0m    ^\u001b[0m\n\u001b[0;31mSyntaxError\u001b[0m\u001b[0;31m:\u001b[0m invalid syntax\n"
     ]
    }
   ],
   "source": [
    "writer = pd.ExcelWriter('total.xlsx')\n",
    "# write dataframe to excel\n",
    ".to_excel(writer)\n",
    "# save the excel\n",
    "writer.save()\n",
    "print('DataFrame is written successfully to Excel File.')"
   ]
  },
  {
   "cell_type": "code",
   "execution_count": 11,
   "metadata": {},
   "outputs": [
    {
     "data": {
      "text/plain": [
       "Index(['img_data', 'label'], dtype='object')"
      ]
     },
     "execution_count": 11,
     "metadata": {},
     "output_type": "execute_result"
    }
   ],
   "source": [
    "img_final.columns\n"
   ]
  },
  {
   "cell_type": "code",
   "execution_count": 12,
   "metadata": {},
   "outputs": [],
   "source": [
    "import numpy as np\n",
    "import pandas as pd\n",
    "\n",
    "def train_validate_test_split(df, train_percent=.7, validate_percent=.1, seed=None):\n",
    "    np.random.seed(seed)\n",
    "    perm = np.random.permutation(df.index)\n",
    "    m = len(df.index)\n",
    "    train_end = int(train_percent * m)\n",
    "    validate_end = int(validate_percent * m) + train_end\n",
    "    train = df.iloc[perm[:train_end]]\n",
    "    validate = df.iloc[perm[train_end:validate_end]]\n",
    "    test = df.iloc[perm[validate_end:]]\n",
    "    return train, validate, test"
   ]
  },
  {
   "cell_type": "code",
   "execution_count": 13,
   "metadata": {},
   "outputs": [],
   "source": [
    "train, validate, test = train_validate_test_split(img_final)"
   ]
  },
  {
   "cell_type": "code",
   "execution_count": 14,
   "metadata": {},
   "outputs": [
    {
     "data": {
      "text/html": [
       "<div>\n",
       "<style scoped>\n",
       "    .dataframe tbody tr th:only-of-type {\n",
       "        vertical-align: middle;\n",
       "    }\n",
       "\n",
       "    .dataframe tbody tr th {\n",
       "        vertical-align: top;\n",
       "    }\n",
       "\n",
       "    .dataframe thead th {\n",
       "        text-align: right;\n",
       "    }\n",
       "</style>\n",
       "<table border=\"1\" class=\"dataframe\">\n",
       "  <thead>\n",
       "    <tr style=\"text-align: right;\">\n",
       "      <th></th>\n",
       "      <th>img_data</th>\n",
       "      <th>label</th>\n",
       "    </tr>\n",
       "  </thead>\n",
       "  <tbody>\n",
       "    <tr>\n",
       "      <th>238</th>\n",
       "      <td>[1, 1, 28, 25, 43, 26, 25, 28, 27, 26, 40, 28,...</td>\n",
       "      <td>0</td>\n",
       "    </tr>\n",
       "    <tr>\n",
       "      <th>169</th>\n",
       "      <td>[66, 58, 64, 62, 65, 119, 236, 230, 240, 230, ...</td>\n",
       "      <td>0</td>\n",
       "    </tr>\n",
       "    <tr>\n",
       "      <th>319</th>\n",
       "      <td>[1, 1, 1, 1, 1, 1, 1, 1, 1, 1, 1, 1, 91, 138, ...</td>\n",
       "      <td>0</td>\n",
       "    </tr>\n",
       "    <tr>\n",
       "      <th>384</th>\n",
       "      <td>[2, 62, 37, 119, 109, 112, 140, 134, 119, 112,...</td>\n",
       "      <td>1</td>\n",
       "    </tr>\n",
       "    <tr>\n",
       "      <th>591</th>\n",
       "      <td>[67, 64, 66, 66, 77, 74, 75, 80, 72, 68, 67, 6...</td>\n",
       "      <td>0</td>\n",
       "    </tr>\n",
       "    <tr>\n",
       "      <th>...</th>\n",
       "      <td>...</td>\n",
       "      <td>...</td>\n",
       "    </tr>\n",
       "    <tr>\n",
       "      <th>254</th>\n",
       "      <td>[0, 0, 79, 77, 86, 74, 132, 213, 216, 225, 174...</td>\n",
       "      <td>0</td>\n",
       "    </tr>\n",
       "    <tr>\n",
       "      <th>733</th>\n",
       "      <td>[1, 1, 1, 44, 44, 45, 44, 44, 45, 45, 44, 48, ...</td>\n",
       "      <td>0</td>\n",
       "    </tr>\n",
       "    <tr>\n",
       "      <th>599</th>\n",
       "      <td>[0, 0, 2, 231, 212, 214, 210, 219, 198, 78, 85...</td>\n",
       "      <td>0</td>\n",
       "    </tr>\n",
       "    <tr>\n",
       "      <th>674</th>\n",
       "      <td>[1, 57, 53, 54, 119, 184, 208, 217, 217, 216, ...</td>\n",
       "      <td>0</td>\n",
       "    </tr>\n",
       "    <tr>\n",
       "      <th>334</th>\n",
       "      <td>[234, 235, 255, 255, 255, 254, 255, 254, 255, ...</td>\n",
       "      <td>1</td>\n",
       "    </tr>\n",
       "  </tbody>\n",
       "</table>\n",
       "<p>522 rows × 2 columns</p>\n",
       "</div>"
      ],
      "text/plain": [
       "                                              img_data  label\n",
       "238  [1, 1, 28, 25, 43, 26, 25, 28, 27, 26, 40, 28,...      0\n",
       "169  [66, 58, 64, 62, 65, 119, 236, 230, 240, 230, ...      0\n",
       "319  [1, 1, 1, 1, 1, 1, 1, 1, 1, 1, 1, 1, 91, 138, ...      0\n",
       "384  [2, 62, 37, 119, 109, 112, 140, 134, 119, 112,...      1\n",
       "591  [67, 64, 66, 66, 77, 74, 75, 80, 72, 68, 67, 6...      0\n",
       "..                                                 ...    ...\n",
       "254  [0, 0, 79, 77, 86, 74, 132, 213, 216, 225, 174...      0\n",
       "733  [1, 1, 1, 44, 44, 45, 44, 44, 45, 45, 44, 48, ...      0\n",
       "599  [0, 0, 2, 231, 212, 214, 210, 219, 198, 78, 85...      0\n",
       "674  [1, 57, 53, 54, 119, 184, 208, 217, 217, 216, ...      0\n",
       "334  [234, 235, 255, 255, 255, 254, 255, 254, 255, ...      1\n",
       "\n",
       "[522 rows x 2 columns]"
      ]
     },
     "execution_count": 14,
     "metadata": {},
     "output_type": "execute_result"
    }
   ],
   "source": [
    "train"
   ]
  },
  {
   "cell_type": "code",
   "execution_count": 15,
   "metadata": {},
   "outputs": [
    {
     "name": "stdout",
     "output_type": "stream",
     "text": [
      "DataFrame is written successfully to Excel File.\n"
     ]
    }
   ],
   "source": [
    "writer = pd.ExcelWriter('train.xlsx')\n",
    "# write dataframe to excel\n",
    "train.to_excel(writer)\n",
    "# save the excel\n",
    "writer.save()\n",
    "print('DataFrame is written successfully to Excel File.')"
   ]
  },
  {
   "cell_type": "code",
   "execution_count": 16,
   "metadata": {},
   "outputs": [
    {
     "data": {
      "text/html": [
       "<div>\n",
       "<style scoped>\n",
       "    .dataframe tbody tr th:only-of-type {\n",
       "        vertical-align: middle;\n",
       "    }\n",
       "\n",
       "    .dataframe tbody tr th {\n",
       "        vertical-align: top;\n",
       "    }\n",
       "\n",
       "    .dataframe thead th {\n",
       "        text-align: right;\n",
       "    }\n",
       "</style>\n",
       "<table border=\"1\" class=\"dataframe\">\n",
       "  <thead>\n",
       "    <tr style=\"text-align: right;\">\n",
       "      <th></th>\n",
       "      <th>img_data</th>\n",
       "      <th>label</th>\n",
       "    </tr>\n",
       "  </thead>\n",
       "  <tbody>\n",
       "    <tr>\n",
       "      <th>665</th>\n",
       "      <td>[21, 21, 25, 220, 253, 221, 233, 214, 226, 37,...</td>\n",
       "      <td>1</td>\n",
       "    </tr>\n",
       "    <tr>\n",
       "      <th>261</th>\n",
       "      <td>[28, 136, 203, 226, 31, 54, 37, 215, 196, 205,...</td>\n",
       "      <td>1</td>\n",
       "    </tr>\n",
       "    <tr>\n",
       "      <th>520</th>\n",
       "      <td>[142, 174, 171, 170, 176, 177, 174, 177, 182, ...</td>\n",
       "      <td>0</td>\n",
       "    </tr>\n",
       "    <tr>\n",
       "      <th>536</th>\n",
       "      <td>[1, 1, 2, 89, 101, 84, 246, 254, 254, 250, 250...</td>\n",
       "      <td>1</td>\n",
       "    </tr>\n",
       "    <tr>\n",
       "      <th>341</th>\n",
       "      <td>[51, 51, 50, 53, 51, 49, 99, 55, 51, 55, 51, 5...</td>\n",
       "      <td>1</td>\n",
       "    </tr>\n",
       "    <tr>\n",
       "      <th>...</th>\n",
       "      <td>...</td>\n",
       "      <td>...</td>\n",
       "    </tr>\n",
       "    <tr>\n",
       "      <th>611</th>\n",
       "      <td>[68, 81, 164, 223, 253, 228, 242, 236, 216, 20...</td>\n",
       "      <td>0</td>\n",
       "    </tr>\n",
       "    <tr>\n",
       "      <th>404</th>\n",
       "      <td>[7, 8, 9, 7, 8, 8, 8, 8, 9, 8, 9, 8, 7, 6, 8, ...</td>\n",
       "      <td>1</td>\n",
       "    </tr>\n",
       "    <tr>\n",
       "      <th>692</th>\n",
       "      <td>[1, 1, 1, 11, 26, 30, 25, 28, 28, 28, 29, 30, ...</td>\n",
       "      <td>0</td>\n",
       "    </tr>\n",
       "    <tr>\n",
       "      <th>450</th>\n",
       "      <td>[50, 50, 46, 45, 47, 46, 48, 44, 50, 45, 47, 4...</td>\n",
       "      <td>1</td>\n",
       "    </tr>\n",
       "    <tr>\n",
       "      <th>77</th>\n",
       "      <td>[71, 71, 69, 199, 241, 255, 255, 251, 255, 244...</td>\n",
       "      <td>0</td>\n",
       "    </tr>\n",
       "  </tbody>\n",
       "</table>\n",
       "<p>150 rows × 2 columns</p>\n",
       "</div>"
      ],
      "text/plain": [
       "                                              img_data  label\n",
       "665  [21, 21, 25, 220, 253, 221, 233, 214, 226, 37,...      1\n",
       "261  [28, 136, 203, 226, 31, 54, 37, 215, 196, 205,...      1\n",
       "520  [142, 174, 171, 170, 176, 177, 174, 177, 182, ...      0\n",
       "536  [1, 1, 2, 89, 101, 84, 246, 254, 254, 250, 250...      1\n",
       "341  [51, 51, 50, 53, 51, 49, 99, 55, 51, 55, 51, 5...      1\n",
       "..                                                 ...    ...\n",
       "611  [68, 81, 164, 223, 253, 228, 242, 236, 216, 20...      0\n",
       "404  [7, 8, 9, 7, 8, 8, 8, 8, 9, 8, 9, 8, 7, 6, 8, ...      1\n",
       "692  [1, 1, 1, 11, 26, 30, 25, 28, 28, 28, 29, 30, ...      0\n",
       "450  [50, 50, 46, 45, 47, 46, 48, 44, 50, 45, 47, 4...      1\n",
       "77   [71, 71, 69, 199, 241, 255, 255, 251, 255, 244...      0\n",
       "\n",
       "[150 rows x 2 columns]"
      ]
     },
     "execution_count": 16,
     "metadata": {},
     "output_type": "execute_result"
    }
   ],
   "source": [
    "test"
   ]
  },
  {
   "cell_type": "code",
   "execution_count": 17,
   "metadata": {},
   "outputs": [
    {
     "name": "stdout",
     "output_type": "stream",
     "text": [
      "DataFrame is written successfully to Excel File.\n"
     ]
    }
   ],
   "source": [
    "writer = pd.ExcelWriter('test.xlsx')\n",
    "# write dataframe to excel\n",
    "test.to_excel(writer)\n",
    "# save the excel\n",
    "writer.save()\n",
    "print('DataFrame is written successfully to Excel File.')"
   ]
  },
  {
   "cell_type": "code",
   "execution_count": 18,
   "metadata": {},
   "outputs": [
    {
     "data": {
      "text/html": [
       "<div>\n",
       "<style scoped>\n",
       "    .dataframe tbody tr th:only-of-type {\n",
       "        vertical-align: middle;\n",
       "    }\n",
       "\n",
       "    .dataframe tbody tr th {\n",
       "        vertical-align: top;\n",
       "    }\n",
       "\n",
       "    .dataframe thead th {\n",
       "        text-align: right;\n",
       "    }\n",
       "</style>\n",
       "<table border=\"1\" class=\"dataframe\">\n",
       "  <thead>\n",
       "    <tr style=\"text-align: right;\">\n",
       "      <th></th>\n",
       "      <th>img_data</th>\n",
       "      <th>label</th>\n",
       "    </tr>\n",
       "  </thead>\n",
       "  <tbody>\n",
       "    <tr>\n",
       "      <th>214</th>\n",
       "      <td>[62, 64, 64, 63, 63, 83, 95, 166, 131, 60, 65,...</td>\n",
       "      <td>1</td>\n",
       "    </tr>\n",
       "    <tr>\n",
       "      <th>275</th>\n",
       "      <td>[63, 243, 217, 209, 215, 214, 232, 247, 246, 2...</td>\n",
       "      <td>1</td>\n",
       "    </tr>\n",
       "    <tr>\n",
       "      <th>628</th>\n",
       "      <td>[215, 211, 208, 215, 235, 243, 252, 250, 248, ...</td>\n",
       "      <td>1</td>\n",
       "    </tr>\n",
       "    <tr>\n",
       "      <th>741</th>\n",
       "      <td>[215, 55, 55, 52, 59, 54, 173, 169, 59, 57, 55...</td>\n",
       "      <td>1</td>\n",
       "    </tr>\n",
       "    <tr>\n",
       "      <th>127</th>\n",
       "      <td>[54, 54, 54, 53, 70, 49, 66, 62, 66, 59, 56, 5...</td>\n",
       "      <td>0</td>\n",
       "    </tr>\n",
       "    <tr>\n",
       "      <th>...</th>\n",
       "      <td>...</td>\n",
       "      <td>...</td>\n",
       "    </tr>\n",
       "    <tr>\n",
       "      <th>88</th>\n",
       "      <td>[218, 226, 234, 216, 219, 241, 221, 228, 244, ...</td>\n",
       "      <td>0</td>\n",
       "    </tr>\n",
       "    <tr>\n",
       "      <th>117</th>\n",
       "      <td>[192, 215, 214, 196, 208, 215, 217, 205, 216, ...</td>\n",
       "      <td>1</td>\n",
       "    </tr>\n",
       "    <tr>\n",
       "      <th>3</th>\n",
       "      <td>[1, 1, 60, 65, 58, 61, 61, 68, 72, 58, 82, 75,...</td>\n",
       "      <td>0</td>\n",
       "    </tr>\n",
       "    <tr>\n",
       "      <th>313</th>\n",
       "      <td>[1, 1, 1, 1, 1, 1, 1, 1, 1, 1, 1, 1, 38, 47, 1...</td>\n",
       "      <td>0</td>\n",
       "    </tr>\n",
       "    <tr>\n",
       "      <th>309</th>\n",
       "      <td>[1, 59, 60, 60, 60, 59, 60, 60, 56, 58, 59, 67...</td>\n",
       "      <td>0</td>\n",
       "    </tr>\n",
       "  </tbody>\n",
       "</table>\n",
       "<p>74 rows × 2 columns</p>\n",
       "</div>"
      ],
      "text/plain": [
       "                                              img_data  label\n",
       "214  [62, 64, 64, 63, 63, 83, 95, 166, 131, 60, 65,...      1\n",
       "275  [63, 243, 217, 209, 215, 214, 232, 247, 246, 2...      1\n",
       "628  [215, 211, 208, 215, 235, 243, 252, 250, 248, ...      1\n",
       "741  [215, 55, 55, 52, 59, 54, 173, 169, 59, 57, 55...      1\n",
       "127  [54, 54, 54, 53, 70, 49, 66, 62, 66, 59, 56, 5...      0\n",
       "..                                                 ...    ...\n",
       "88   [218, 226, 234, 216, 219, 241, 221, 228, 244, ...      0\n",
       "117  [192, 215, 214, 196, 208, 215, 217, 205, 216, ...      1\n",
       "3    [1, 1, 60, 65, 58, 61, 61, 68, 72, 58, 82, 75,...      0\n",
       "313  [1, 1, 1, 1, 1, 1, 1, 1, 1, 1, 1, 1, 38, 47, 1...      0\n",
       "309  [1, 59, 60, 60, 60, 59, 60, 60, 56, 58, 59, 67...      0\n",
       "\n",
       "[74 rows x 2 columns]"
      ]
     },
     "execution_count": 18,
     "metadata": {},
     "output_type": "execute_result"
    }
   ],
   "source": [
    "validate"
   ]
  },
  {
   "cell_type": "code",
   "execution_count": 19,
   "metadata": {},
   "outputs": [
    {
     "name": "stdout",
     "output_type": "stream",
     "text": [
      "DataFrame is written successfully to Excel File.\n"
     ]
    }
   ],
   "source": [
    "writer = pd.ExcelWriter('validate.xlsx')\n",
    "# write dataframe to excel\n",
    "validate.to_excel(writer)\n",
    "# save the excel\n",
    "writer.save()\n",
    "print('DataFrame is written successfully to Excel File.')"
   ]
  },
  {
   "cell_type": "markdown",
   "metadata": {},
   "source": [
    "### Training & Testing Split"
   ]
  },
  {
   "cell_type": "code",
   "execution_count": 19,
   "metadata": {},
   "outputs": [],
   "source": [
    "y_df = img_final[['label']]\n",
    "X_df = img_final[['img_data']]\n"
   ]
  },
  {
   "cell_type": "code",
   "execution_count": 20,
   "metadata": {},
   "outputs": [],
   "source": [
    "X = np.asarray(X_df)\n",
    "y = np.asarray(y_df)\n",
    "y = y.flatten()"
   ]
  },
  {
   "cell_type": "code",
   "execution_count": 21,
   "metadata": {},
   "outputs": [],
   "source": [
    "X_final = []\n",
    "for i in X: # Just use reshape here instead\n",
    "    for g in i:\n",
    "        X_final.append(g)\n",
    "    "
   ]
  },
  {
   "cell_type": "code",
   "execution_count": 22,
   "metadata": {},
   "outputs": [],
   "source": [
    "X_f = np.array(X_final)"
   ]
  },
  {
   "cell_type": "code",
   "execution_count": 23,
   "metadata": {},
   "outputs": [
    {
     "name": "stdout",
     "output_type": "stream",
     "text": [
      "X_train.shape = (559, 400)\n",
      "X_test.shape  = (187, 400)\n",
      "y_train.shape = (559,)\n",
      "y_test.shape  = (187,)\n"
     ]
    }
   ],
   "source": [
    "X_train, X_test, y_train, y_test = train_test_split(\n",
    "     X_f, y, random_state=600)\n",
    "\n",
    "print(f'X_train.shape = {X_train.shape}')\n",
    "print(f'X_test.shape  = {X_test.shape}')\n",
    "print(f'y_train.shape = {y_train.shape}')\n",
    "print(f'y_test.shape  = {y_test.shape}')"
   ]
  },
  {
   "cell_type": "markdown",
   "metadata": {},
   "source": [
    "### Implementing SVM Model"
   ]
  },
  {
   "cell_type": "code",
   "execution_count": 24,
   "metadata": {},
   "outputs": [],
   "source": [
    "sv = SVC(C=1,kernel='poly',gamma = 'auto')"
   ]
  },
  {
   "cell_type": "code",
   "execution_count": 25,
   "metadata": {},
   "outputs": [
    {
     "data": {
      "text/plain": [
       "SVC(C=1, gamma='auto', kernel='poly')"
      ]
     },
     "execution_count": 25,
     "metadata": {},
     "output_type": "execute_result"
    }
   ],
   "source": [
    "sv.fit(X_train, y_train)"
   ]
  },
  {
   "cell_type": "code",
   "execution_count": 26,
   "metadata": {},
   "outputs": [],
   "source": [
    "predict = sv.predict(X_test)"
   ]
  },
  {
   "cell_type": "code",
   "execution_count": 27,
   "metadata": {},
   "outputs": [
    {
     "name": "stdout",
     "output_type": "stream",
     "text": [
      "Model accuracy is 67.91%\n"
     ]
    }
   ],
   "source": [
    "print(f'Model accuracy is {accuracy_score(y_test, predict)*100:.2f}%')"
   ]
  },
  {
   "cell_type": "code",
   "execution_count": 28,
   "metadata": {},
   "outputs": [
    {
     "data": {
      "text/plain": [
       "array([1, 0, 0, 1, 1, 1, 1, 0, 1, 0, 1, 1, 0, 0, 0, 0, 1, 0, 0, 0, 1, 1,\n",
       "       0, 0, 0, 1, 1, 0, 0, 1, 0, 0, 0, 0, 0, 0, 1, 1, 0, 1, 0, 1, 1, 0,\n",
       "       1, 1, 0, 1, 0, 0, 1, 1, 1, 0, 1, 1, 0, 0, 1, 0, 0, 1, 1, 0, 1, 1,\n",
       "       1, 1, 0, 0, 0, 0, 1, 0, 0, 1, 1, 1, 1, 0, 1, 0, 0, 1, 1, 0, 0, 1,\n",
       "       0, 1, 0, 0, 0, 1, 0, 0, 1, 1, 1, 1, 0, 0, 1, 1, 0, 1, 0, 0, 0, 0,\n",
       "       0, 0, 0, 1, 1, 0, 1, 1, 1, 0, 1, 1, 0, 1, 0, 0, 1, 0, 1, 0, 0, 0,\n",
       "       0, 1, 1, 0, 0, 0, 0, 0, 1, 0, 1, 1, 1, 1, 1, 0, 0, 1, 0, 0, 0, 0,\n",
       "       1, 1, 0, 1, 0, 1, 1, 0, 1, 1, 0, 1, 1, 1, 1, 0, 0, 1, 1, 1, 0, 0,\n",
       "       0, 1, 0, 0, 1, 1, 0, 0, 0, 1, 0])"
      ]
     },
     "execution_count": 28,
     "metadata": {},
     "output_type": "execute_result"
    }
   ],
   "source": [
    "predict"
   ]
  },
  {
   "cell_type": "code",
   "execution_count": 29,
   "metadata": {},
   "outputs": [
    {
     "data": {
      "text/plain": [
       "array([0, 0, 1, 1, 0, 0, 1, 0, 1, 0, 1, 1, 1, 1, 1, 1, 1, 0, 1, 0, 0, 0,\n",
       "       0, 1, 0, 1, 0, 1, 1, 1, 0, 0, 0, 0, 0, 1, 1, 1, 0, 0, 0, 0, 1, 0,\n",
       "       1, 0, 0, 1, 1, 0, 0, 1, 1, 1, 1, 1, 1, 0, 1, 1, 0, 1, 0, 0, 1, 1,\n",
       "       0, 0, 0, 1, 0, 0, 1, 0, 0, 0, 1, 0, 0, 1, 1, 1, 0, 0, 0, 0, 1, 1,\n",
       "       0, 1, 0, 0, 0, 1, 0, 1, 1, 1, 0, 1, 0, 0, 0, 1, 1, 1, 0, 1, 1, 1,\n",
       "       0, 0, 0, 1, 1, 1, 0, 1, 1, 0, 1, 0, 0, 1, 0, 0, 1, 0, 1, 0, 0, 1,\n",
       "       0, 0, 1, 0, 0, 0, 0, 0, 1, 0, 1, 1, 1, 1, 0, 0, 0, 1, 0, 1, 1, 0,\n",
       "       1, 0, 0, 1, 1, 1, 1, 0, 1, 1, 1, 1, 1, 1, 1, 0, 0, 0, 0, 1, 0, 1,\n",
       "       1, 0, 0, 1, 1, 1, 0, 0, 0, 1, 0])"
      ]
     },
     "execution_count": 29,
     "metadata": {},
     "output_type": "execute_result"
    }
   ],
   "source": [
    "y_test"
   ]
  },
  {
   "cell_type": "code",
   "execution_count": null,
   "metadata": {},
   "outputs": [],
   "source": []
  }
 ],
 "metadata": {
  "kernelspec": {
   "display_name": "Python 3",
   "language": "python",
   "name": "python3"
  },
  "language_info": {
   "codemirror_mode": {
    "name": "ipython",
    "version": 3
   },
   "file_extension": ".py",
   "mimetype": "text/x-python",
   "name": "python",
   "nbconvert_exporter": "python",
   "pygments_lexer": "ipython3",
   "version": "3.8.5"
  }
 },
 "nbformat": 4,
 "nbformat_minor": 4
}
